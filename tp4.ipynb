{
 "cells": [
  {
   "cell_type": "markdown",
   "id": "3e4771e8",
   "metadata": {},
   "source": [
    "# Trabajo Practico n4 - Introduccion a numpy.\n",
    "## Criterios de evaluación.\n",
    "\n",
    "* Se deben utilizar nombres de variables descriptivos y claros (Utilizar la nomeclatura correspondiente para los nombres de variables).\n",
    "* Comentarios claros y concisos que expliquen el propósito de cada sección del código.\n",
    "* Utilizar mensajes de commit **descriptivos**. (Puedes utilizar la extension CONVENTIONAL COMMIT de VS-CODE). \n",
    "* Entrega en tiempo y forma.\n",
    "* Todo el código desarrollado debe ser subido a un repositorio en GitHub (el nombre del repositorio de seguir la siguiente estructura: tp4_tlp3_nombre_apellido).\n",
    "* Para resolver las actividades se debe insertar casillas de codigo entre cada actividad del cuaderno de Jupyter\n",
    "\n",
    "### ¡Importante!\n",
    "**El incumplimiento de los criterios de evaluación restará puntos en la nota final del práctico!**"
   ]
  },
  {
   "cell_type": "markdown",
   "id": "6f3340d9",
   "metadata": {},
   "source": [
    "**Importaciones:**"
   ]
  },
  {
   "cell_type": "code",
   "execution_count": null,
   "id": "783ab170",
   "metadata": {},
   "outputs": [],
   "source": [
    "import numpy as np\n",
    "from random import randint"
   ]
  },
  {
   "cell_type": "markdown",
   "id": "c5ba7292",
   "metadata": {},
   "source": [
    "**Actividad 1:**: Crea un array de NumPy que contenga los números del 0 al 9. (Debes utilizar un metodo de numpy para su creacion.)"
   ]
  },
  {
   "cell_type": "code",
   "execution_count": null,
   "id": "75029034",
   "metadata": {},
   "outputs": [
    {
     "name": "stdout",
     "output_type": "stream",
     "text": [
      "[0 1 2 3 4 5 6 7 8 9]\n"
     ]
    }
   ],
   "source": [
    "#todo: \n",
    "array = np.arange(10) # Usamos el metodo arange para crear un array de 10 elementos\n",
    "print(array) # imprimimos el array\n",
    "\n"
   ]
  },
  {
   "cell_type": "markdown",
   "id": "cb894927",
   "metadata": {},
   "source": [
    "**Actividad 2:** Crea un array de 5 ceros, y luego cambia el tercer elemento (índice 2) para que sea 5. (Debes utilizar un metodo de numpy para su creacion.)"
   ]
  },
  {
   "cell_type": "code",
   "execution_count": 5,
   "id": "b9cd04a0",
   "metadata": {},
   "outputs": [
    {
     "name": "stdout",
     "output_type": "stream",
     "text": [
      "[0. 0. 5. 0. 0.]\n"
     ]
    }
   ],
   "source": [
    "#todo:\n",
    "# Creamos un array de 5 elementos, todos inicializados en cero, usando el método zeros().\n",
    "array = np.zeros(5)\n",
    "\n",
    "# Modificamos el tercer elemento del array (índice 2) y le asignamos el valor 5.\n",
    "array[2] = 5\n",
    "\n",
    "# Mostramos el array por consola para verificar el cambio.\n",
    "print(array)\n"
   ]
  },
  {
   "cell_type": "markdown",
   "id": "000352a3",
   "metadata": {},
   "source": [
    "**Actividad 3:** Genera una matriz 3x3 de números aleatorios entre 0 y 1."
   ]
  },
  {
   "cell_type": "code",
   "execution_count": 9,
   "id": "e74354c9",
   "metadata": {},
   "outputs": [
    {
     "name": "stdout",
     "output_type": "stream",
     "text": [
      "[[0.60910188 0.98975625 0.50396191]\n",
      " [0.53249498 0.71835176 0.54383566]\n",
      " [0.79632092 0.04171727 0.77149231]]\n"
     ]
    }
   ],
   "source": [
    "#todo:\n",
    "# np.random.rand(3, 3) genera una matriz de tamaño 3x3 con valores aleatorios entre 0 y 1\n",
    "matriz = np.random.rand(3, 3)\n",
    "\n",
    "# Imprimir la matriz generada en la consola\n",
    "print(matriz)"
   ]
  },
  {
   "cell_type": "markdown",
   "id": "6611aaf8",
   "metadata": {},
   "source": [
    "**Actividad 4:** Dado el siguiente array `arr = np.array([10, 20, 30, 40, 50])`\n",
    "1. Suma 5 a cada elemento.\n",
    "2. Multiplica todo por un numero aleatorio (utiliza el modulo random para generarlo.)"
   ]
  },
  {
   "cell_type": "code",
   "execution_count": 18,
   "id": "ed416e11",
   "metadata": {},
   "outputs": [
    {
     "name": "stdout",
     "output_type": "stream",
     "text": [
      "Array después de sumar 5: [15 25 35 45 55]\n",
      "Número aleatorio generado: 3\n",
      "Array después de multiplicar por el número aleatorio: [ 45  75 105 135 165]\n"
     ]
    }
   ],
   "source": [
    "#todo:\n",
    "import random # Importamos la libreria random\n",
    "# Crear el array inicial\n",
    "arr = np.array([10, 20, 30, 40, 50])\n",
    "\n",
    "# 1. Sumar 5 a cada elemento\n",
    "arr_sumado = arr + 5\n",
    "\n",
    "# 2. Generar un número aleatorio entre 1 y 10\n",
    "numero_aleatorio = np.random.randint(1, 11)\n",
    "\n",
    "# 3. Multiplicar cada elemento del array sumado por el número aleatorio generado\n",
    "arr_multiplicado = arr_sumado * numero_aleatorio\n",
    "\n",
    "# Imprimir el resultado\n",
    "print(\"Array después de sumar 5:\", arr_sumado)\n",
    "print(\"Número aleatorio generado:\", numero_aleatorio)\n",
    "print(\"Array después de multiplicar por el número aleatorio:\", arr_multiplicado)"
   ]
  },
  {
   "cell_type": "markdown",
   "id": "fbd05c4d",
   "metadata": {},
   "source": [
    "**Actividad 5:** Crea una matriz identidad de tamaño 4x4 (unos en la diagonal principal y ceros en el resto)."
   ]
  },
  {
   "cell_type": "code",
   "execution_count": 19,
   "id": "6811c19f",
   "metadata": {},
   "outputs": [
    {
     "name": "stdout",
     "output_type": "stream",
     "text": [
      "[[1. 0. 0. 0.]\n",
      " [0. 1. 0. 0.]\n",
      " [0. 0. 1. 0.]\n",
      " [0. 0. 0. 1.]]\n"
     ]
    }
   ],
   "source": [
    "#todo:\n",
    "# Crear una matriz identidad de tamaño 4x4\n",
    "matriz_identidad = np.eye(4)\n",
    "\n",
    "# Imprimir la matriz identidad\n",
    "print(matriz_identidad)"
   ]
  },
  {
   "cell_type": "markdown",
   "id": "3ec18459",
   "metadata": {},
   "source": [
    "**Actividad 6:** Crea un array que comience en 0 hasta el 20, pero que solo tenga numeros pares yu luego realiza las 4 operaciones basicas. (suma, resta, multiplicacion, division)."
   ]
  },
  {
   "cell_type": "code",
   "execution_count": 22,
   "id": "f0c02872",
   "metadata": {},
   "outputs": [
    {
     "name": "stdout",
     "output_type": "stream",
     "text": [
      "Array de números pares: [ 0  2  4  6  8 10 12 14 16 18 20]\n",
      "Array de números aleatorios: [5 6 9 7 7 4 4 2 5 9 9]\n",
      "Suma: [ 5  8 13 13 15 14 16 16 21 27 29]\n",
      "Resta: [-5 -4 -5 -1  1  6  8 12 11  9 11]\n",
      "Multiplicación: [  0  12  36  42  56  40  48  28  80 162 180]\n",
      "División: [0.         0.33333333 0.44444444 0.85714286 1.14285714 2.5\n",
      " 3.         7.         3.2        2.         2.22222222]\n"
     ]
    }
   ],
   "source": [
    "#todo: \n",
    "\n",
    "\n",
    "\n",
    "# Crear un array con los números pares de 0 a 20\n",
    "arr_pares = np.arange(0, 21, 2)  # Empieza en 0, hasta 20, con un paso de 2\n",
    "\n",
    "# Crear un array de números aleatorios entre 1 y 10 con el mismo tamaño que arr_pares\n",
    "arr_igual = np.random.randint(1, 11, size=arr_pares.shape)  # Genera números aleatorios entre 1 y 10\n",
    "\n",
    "# Operaciones básicas\n",
    "\n",
    "# Suma\n",
    "suma = arr_pares + arr_igual\n",
    "\n",
    "# Resta\n",
    "resta = arr_pares - arr_igual\n",
    "\n",
    "# Multiplicación\n",
    "multiplicacion = arr_pares * arr_igual\n",
    "\n",
    "# División\n",
    "division = arr_pares / arr_igual\n",
    "\n",
    "# Imprimir los resultados\n",
    "print(\"Array de números pares:\", arr_pares)\n",
    "print(\"Array de números aleatorios:\", arr_igual)\n",
    "print(\"Suma:\", suma)\n",
    "print(\"Resta:\", resta)\n",
    "print(\"Multiplicación:\", multiplicacion)\n",
    "print(\"División:\", division)\n",
    "\n",
    "\n"
   ]
  }
 ],
 "metadata": {
  "kernelspec": {
   "display_name": ".venv",
   "language": "python",
   "name": "python3"
  },
  "language_info": {
   "codemirror_mode": {
    "name": "ipython",
    "version": 3
   },
   "file_extension": ".py",
   "mimetype": "text/x-python",
   "name": "python",
   "nbconvert_exporter": "python",
   "pygments_lexer": "ipython3",
   "version": "3.12.9"
  }
 },
 "nbformat": 4,
 "nbformat_minor": 5
}
